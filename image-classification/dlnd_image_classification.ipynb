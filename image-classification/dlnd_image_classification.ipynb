{
 "cells": [
  {
   "cell_type": "markdown",
   "metadata": {
    "collapsed": true,
    "deletable": true,
    "editable": true
   },
   "source": [
    "# Image Classification\n",
    "In this project, you'll classify images from the [CIFAR-10 dataset](https://www.cs.toronto.edu/~kriz/cifar.html).  The dataset consists of airplanes, dogs, cats, and other objects. You'll preprocess the images, then train a convolutional neural network on all the samples. The images need to be normalized and the labels need to be one-hot encoded.  You'll get to apply what you learned and build a convolutional, max pooling, dropout, and fully connected layers.  At the end, you'll get to see your neural network's predictions on the sample images.\n",
    "## Get the Data\n",
    "Run the following cell to download the [CIFAR-10 dataset for python](https://www.cs.toronto.edu/~kriz/cifar-10-python.tar.gz)."
   ]
  },
  {
   "cell_type": "code",
   "execution_count": 1,
   "metadata": {
    "collapsed": false,
    "deletable": true,
    "editable": true
   },
   "outputs": [
    {
     "name": "stdout",
     "output_type": "stream",
     "text": [
      "All files found!\n"
     ]
    }
   ],
   "source": [
    "\"\"\"\n",
    "DON'T MODIFY ANYTHING IN THIS CELL THAT IS BELOW THIS LINE\n",
    "\"\"\"\n",
    "from urllib.request import urlretrieve\n",
    "from os.path import isfile, isdir\n",
    "from tqdm import tqdm\n",
    "import problem_unittests as tests\n",
    "import tarfile\n",
    "\n",
    "cifar10_dataset_folder_path = 'cifar-10-batches-py'\n",
    "\n",
    "# Use Floyd's cifar-10 dataset if present\n",
    "floyd_cifar10_location = '/input/cifar-10/python.tar.gz'\n",
    "if isfile(floyd_cifar10_location):\n",
    "    tar_gz_path = floyd_cifar10_location\n",
    "else:\n",
    "    tar_gz_path = 'cifar-10-python.tar.gz'\n",
    "\n",
    "class DLProgress(tqdm):\n",
    "    last_block = 0\n",
    "\n",
    "    def hook(self, block_num=1, block_size=1, total_size=None):\n",
    "        self.total = total_size\n",
    "        self.update((block_num - self.last_block) * block_size)\n",
    "        self.last_block = block_num\n",
    "\n",
    "if not isfile(tar_gz_path):\n",
    "    with DLProgress(unit='B', unit_scale=True, miniters=1, desc='CIFAR-10 Dataset') as pbar:\n",
    "        urlretrieve(\n",
    "            'https://www.cs.toronto.edu/~kriz/cifar-10-python.tar.gz',\n",
    "            tar_gz_path,\n",
    "            pbar.hook)\n",
    "\n",
    "if not isdir(cifar10_dataset_folder_path):\n",
    "    with tarfile.open(tar_gz_path) as tar:\n",
    "        tar.extractall()\n",
    "        tar.close()\n",
    "\n",
    "\n",
    "tests.test_folder_path(cifar10_dataset_folder_path)"
   ]
  },
  {
   "cell_type": "markdown",
   "metadata": {
    "deletable": true,
    "editable": true
   },
   "source": [
    "## Explore the Data\n",
    "The dataset is broken into batches to prevent your machine from running out of memory.  The CIFAR-10 dataset consists of 5 batches, named `data_batch_1`, `data_batch_2`, etc.. Each batch contains the labels and images that are one of the following:\n",
    "* airplane\n",
    "* automobile\n",
    "* bird\n",
    "* cat\n",
    "* deer\n",
    "* dog\n",
    "* frog\n",
    "* horse\n",
    "* ship\n",
    "* truck\n",
    "\n",
    "Understanding a dataset is part of making predictions on the data.  Play around with the code cell below by changing the `batch_id` and `sample_id`. The `batch_id` is the id for a batch (1-5). The `sample_id` is the id for a image and label pair in the batch.\n",
    "\n",
    "Ask yourself \"What are all possible labels?\", \"What is the range of values for the image data?\", \"Are the labels in order or random?\".  Answers to questions like these will help you preprocess the data and end up with better predictions."
   ]
  },
  {
   "cell_type": "code",
   "execution_count": 2,
   "metadata": {
    "collapsed": false,
    "deletable": true,
    "editable": true
   },
   "outputs": [
    {
     "name": "stdout",
     "output_type": "stream",
     "text": [
      "\n",
      "Stats of batch 1:\n",
      "Samples: 10000\n",
      "Label Counts: {0: 1005, 1: 974, 2: 1032, 3: 1016, 4: 999, 5: 937, 6: 1030, 7: 1001, 8: 1025, 9: 981}\n",
      "First 20 Labels: [6, 9, 9, 4, 1, 1, 2, 7, 8, 3, 4, 7, 7, 2, 9, 9, 9, 3, 2, 6]\n",
      "\n",
      "Example of Image 5:\n",
      "Image - Min Value: 0 Max Value: 252\n",
      "Image - Shape: (32, 32, 3)\n",
      "Label - Label Id: 1 Name: automobile\n"
     ]
    },
    {
     "data": {
      "image/png": "[encoded data removed]",
      "text/plain": [
       "<matplotlib.figure.Figure at 0x7f9003fa16d8>"
      ]
     },
     "metadata": {
      "image/png": {
       "height": 250.0,
       "width": 253.0
      }
     },
     "output_type": "display_data"
    }
   ],
   "source": [
    "%matplotlib inline\n",
    "%config InlineBackend.figure_format = 'retina'\n",
    "\n",
    "import helper\n",
    "import numpy as np\n",
    "\n",
    "# Explore the dataset\n",
    "batch_id = 1\n",
    "sample_id = 5\n",
    "helper.display_stats(cifar10_dataset_folder_path, batch_id, sample_id)"
   ]
  },
  {
   "cell_type": "markdown",
   "metadata": {
    "deletable": true,
    "editable": true
   },
   "source": [
    "## Implement Preprocess Functions\n",
    "### Normalize\n",
    "In the cell below, implement the `normalize` function to take in image data, `x`, and return it as a normalized Numpy array. The values should be in the range of 0 to 1, inclusive.  The return object should be the same shape as `x`."
   ]
  },
  {
   "cell_type": "code",
   "execution_count": 3,
   "metadata": {
    "collapsed": false,
    "deletable": true,
    "editable": true
   },
   "outputs": [
    {
     "name": "stdout",
     "output_type": "stream",
     "text": [
      "Tests Passed\n"
     ]
    }
   ],
   "source": [
    "def normalize(x):\n",
    "    \"\"\"\n",
    "    Normalize a list of sample image data in the range of 0 to 1\n",
    "    : x: List of image data.  The image shape is (32, 32, 3)\n",
    "    : return: Numpy array of normalize data\n",
    "    \"\"\"\n",
    "    # TODO: Implement Function\n",
    "    return np.array(x)/255.0\n",
    "\n",
    "\n",
    "\"\"\"\n",
    "DON'T MODIFY ANYTHING IN THIS CELL THAT IS BELOW THIS LINE\n",
    "\"\"\"\n",
    "tests.test_normalize(normalize)"
   ]
  },
  {
   "cell_type": "markdown",
   "metadata": {
    "deletable": true,
    "editable": true
   },
   "source": [
    "### One-hot encode\n",
    "Just like the previous code cell, you'll be implementing a function for preprocessing.  This time, you'll implement the `one_hot_encode` function. The input, `x`, are a list of labels.  Implement the function to return the list of labels as One-Hot encoded Numpy array.  The possible values for labels are 0 to 9. The one-hot encoding function should return the same encoding for each value between each call to `one_hot_encode`.  Make sure to save the map of encodings outside the function.\n",
    "\n",
    "Hint: Don't reinvent the wheel."
   ]
  },
  {
   "cell_type": "code",
   "execution_count": 19,
   "metadata": {
    "collapsed": false,
    "deletable": true,
    "editable": true
   },
   "outputs": [
    {
     "name": "stdout",
     "output_type": "stream",
     "text": [
      "Tests Passed\n"
     ]
    }
   ],
   "source": [
    "def one_hot_encode(x):\n",
    "    \"\"\"\n",
    "    One hot encode a list of sample labels. Return a one-hot encoded vector for each label.\n",
    "    : x: List of sample Labels\n",
    "    : return: Numpy array of one-hot encoded labels\n",
    "    \"\"\"\n",
    "    # TODO: Implement Function\n",
    "    \n",
    "    return np.eye(10)[x]\n",
    "\n",
    "\n",
    "\"\"\"\n",
    "DON'T MODIFY ANYTHING IN THIS CELL THAT IS BELOW THIS LINE\n",
    "\"\"\"\n",
    "tests.test_one_hot_encode(one_hot_encode)"
   ]
  },
  {
   "cell_type": "markdown",
   "metadata": {
    "deletable": true,
    "editable": true
   },
   "source": [
    "### Randomize Data\n",
    "As you saw from exploring the data above, the order of the samples are randomized.  It doesn't hurt to randomize it again, but you don't need to for this dataset."
   ]
  },
  {
   "cell_type": "markdown",
   "metadata": {
    "deletable": true,
    "editable": true
   },
   "source": [
    "## Preprocess all the data and save it\n",
    "Running the code cell below will preprocess all the CIFAR-10 data and save it to file. The code below also uses 10% of the training data for validation."
   ]
  },
  {
   "cell_type": "code",
   "execution_count": 20,
   "metadata": {
    "collapsed": false,
    "deletable": true,
    "editable": true
   },
   "outputs": [],
   "source": [
    "\"\"\"\n",
    "DON'T MODIFY ANYTHING IN THIS CELL\n",
    "\"\"\"\n",
    "# Preprocess Training, Validation, and Testing Data\n",
    "helper.preprocess_and_save_data(cifar10_dataset_folder_path, normalize, one_hot_encode)"
   ]
  },
  {
   "cell_type": "markdown",
   "metadata": {
    "deletable": true,
    "editable": true
   },
   "source": [
    "# Check Point\n",
    "This is your first checkpoint.  If you ever decide to come back to this notebook or have to restart the notebook, you can start from here.  The preprocessed data has been saved to disk."
   ]
  },
  {
   "cell_type": "code",
   "execution_count": 21,
   "metadata": {
    "collapsed": true,
    "deletable": true,
    "editable": true
   },
   "outputs": [],
   "source": [
    "\"\"\"\n",
    "DON'T MODIFY ANYTHING IN THIS CELL\n",
    "\"\"\"\n",
    "import pickle\n",
    "import problem_unittests as tests\n",
    "import helper\n",
    "\n",
    "# Load the Preprocessed Validation data\n",
    "valid_features, valid_labels = pickle.load(open('preprocess_validation.p', mode='rb'))"
   ]
  },
  {
   "cell_type": "markdown",
   "metadata": {
    "deletable": true,
    "editable": true
   },
   "source": [
    "## Build the network\n",
    "For the neural network, you'll build each layer into a function.  Most of the code you've seen has been outside of functions. To test your code more thoroughly, we require that you put each layer in a function.  This allows us to give you better feedback and test for simple mistakes using our unittests before you submit your project.\n",
    "\n",
    ">**Note:** If you're finding it hard to dedicate enough time for this course each week, we've provided a small shortcut to this part of the project. In the next couple of problems, you'll have the option to use classes from the [TensorFlow Layers](https://www.tensorflow.org/api_docs/python/tf/layers) or [TensorFlow Layers (contrib)](https://www.tensorflow.org/api_guides/python/contrib.layers) packages to build each layer, except the layers you build in the \"Convolutional and Max Pooling Layer\" section.  TF Layers is similar to Keras's and TFLearn's abstraction to layers, so it's easy to pickup.\n",
    "\n",
    ">However, if you would like to get the most out of this course, try to solve all the problems _without_ using anything from the TF Layers packages. You **can** still use classes from other packages that happen to have the same name as ones you find in TF Layers! For example, instead of using the TF Layers version of the `conv2d` class, [tf.layers.conv2d](https://www.tensorflow.org/api_docs/python/tf/layers/conv2d), you would want to use the TF Neural Network version of `conv2d`, [tf.nn.conv2d](https://www.tensorflow.org/api_docs/python/tf/nn/conv2d). \n",
    "\n",
    "Let's begin!\n",
    "\n",
    "### Input\n",
    "The neural network needs to read the image data, one-hot encoded labels, and dropout keep probability. Implement the following functions\n",
    "* Implement `neural_net_image_input`\n",
    " * Return a [TF Placeholder](https://www.tensorflow.org/api_docs/python/tf/placeholder)\n",
    " * Set the shape using `image_shape` with batch size set to `None`.\n",
    " * Name the TensorFlow placeholder \"x\" using the TensorFlow `name` parameter in the [TF Placeholder](https://www.tensorflow.org/api_docs/python/tf/placeholder).\n",
    "* Implement `neural_net_label_input`\n",
    " * Return a [TF Placeholder](https://www.tensorflow.org/api_docs/python/tf/placeholder)\n",
    " * Set the shape using `n_classes` with batch size set to `None`.\n",
    " * Name the TensorFlow placeholder \"y\" using the TensorFlow `name` parameter in the [TF Placeholder](https://www.tensorflow.org/api_docs/python/tf/placeholder).\n",
    "* Implement `neural_net_keep_prob_input`\n",
    " * Return a [TF Placeholder](https://www.tensorflow.org/api_docs/python/tf/placeholder) for dropout keep probability.\n",
    " * Name the TensorFlow placeholder \"keep_prob\" using the TensorFlow `name` parameter in the [TF Placeholder](https://www.tensorflow.org/api_docs/python/tf/placeholder).\n",
    "\n",
    "These names will be used at the end of the project to load your saved model.\n",
    "\n",
    "Note: `None` for shapes in TensorFlow allow for a dynamic size."
   ]
  },
  {
   "cell_type": "code",
   "execution_count": 22,
   "metadata": {
    "collapsed": false,
    "deletable": true,
    "editable": true
   },
   "outputs": [
    {
     "name": "stdout",
     "output_type": "stream",
     "text": [
      "Image Input Tests Passed.\n",
      "Label Input Tests Passed.\n",
      "Keep Prob Tests Passed.\n"
     ]
    }
   ],
   "source": [
    "import tensorflow as tf\n",
    "\n",
    "def neural_net_image_input(image_shape):\n",
    "    \"\"\"\n",
    "    Return a Tensor for a batch of image input\n",
    "    : image_shape: Shape of the images\n",
    "    : return: Tensor for image input.\n",
    "    \"\"\"\n",
    "    # TODO: Implement Function\n",
    "    return tf.placeholder(tf.float32, [None] + (list(image_shape)), \"x\")\n",
    "\n",
    "\n",
    "\n",
    "def neural_net_label_input(n_classes):\n",
    "    \"\"\"\n",
    "    Return a Tensor for a batch of label input\n",
    "    : n_classes: Number of classes\n",
    "    : return: Tensor for label input.\n",
    "    \"\"\"\n",
    "    # TODO: Implement Function\n",
    "    return tf.placeholder(tf.float32, [None, n_classes], \"y\")\n",
    "\n",
    "\n",
    "def neural_net_keep_prob_input():\n",
    "    \"\"\"\n",
    "    Return a Tensor for keep probability\n",
    "    : return: Tensor for keep probability.\n",
    "    \"\"\"\n",
    "    # TODO: Implement Function\n",
    "    return tf.placeholder(tf.float32, None, \"keep_prob\")\n",
    "\n",
    "\n",
    "\"\"\"\n",
    "DON'T MODIFY ANYTHING IN THIS CELL THAT IS BELOW THIS LINE\n",
    "\"\"\"\n",
    "tf.reset_default_graph()\n",
    "tests.test_nn_image_inputs(neural_net_image_input)\n",
    "tests.test_nn_label_inputs(neural_net_label_input)\n",
    "tests.test_nn_keep_prob_inputs(neural_net_keep_prob_input)"
   ]
  },
  {
   "cell_type": "markdown",
   "metadata": {
    "deletable": true,
    "editable": true
   },
   "source": [
    "### Convolution and Max Pooling Layer\n",
    "Convolution layers have a lot of success with images. For this code cell, you should implement the function `conv2d_maxpool` to apply convolution then max pooling:\n",
    "* Create the weight and bias using `conv_ksize`, `conv_num_outputs` and the shape of `x_tensor`.\n",
    "* Apply a convolution to `x_tensor` using weight and `conv_strides`.\n",
    " * We recommend you use same padding, but you're welcome to use any padding.\n",
    "* Add bias\n",
    "* Add a nonlinear activation to the convolution.\n",
    "* Apply Max Pooling using `pool_ksize` and `pool_strides`.\n",
    " * We recommend you use same padding, but you're welcome to use any padding.\n",
    "\n",
    "**Note:** You **can't** use [TensorFlow Layers](https://www.tensorflow.org/api_docs/python/tf/layers) or [TensorFlow Layers (contrib)](https://www.tensorflow.org/api_guides/python/contrib.layers) for **this** layer, but you can still use TensorFlow's [Neural Network](https://www.tensorflow.org/api_docs/python/tf/nn) package. You may still use the shortcut option for all the **other** layers."
   ]
  },
  {
   "cell_type": "code",
   "execution_count": 23,
   "metadata": {
    "collapsed": false,
    "deletable": true,
    "editable": true
   },
   "outputs": [
    {
     "name": "stdout",
     "output_type": "stream",
     "text": [
      "Tests Passed\n"
     ]
    }
   ],
   "source": [
    "def conv2d_maxpool(x_tensor, conv_num_outputs, conv_ksize, conv_strides, pool_ksize, pool_strides):\n",
    "    \"\"\"\n",
    "    Apply convolution then max pooling to x_tensor\n",
    "    :param x_tensor: TensorFlow Tensor\n",
    "    :param conv_num_outputs: Number of outputs for the convolutional layer\n",
    "    :param conv_ksize: kernal size 2-D Tuple for the convolutional layer\n",
    "    :param conv_strides: Stride 2-D Tuple for convolution\n",
    "    :param pool_ksize: kernal size 2-D Tuple for pool\n",
    "    :param pool_strides: Stride 2-D Tuple for pool\n",
    "    : return: A tensor that represents convolution and max pooling of x_tensor\n",
    "    \"\"\"\n",
    "    # TODO: Implement Function\n",
    "    shape = x_tensor.get_shape().as_list()\n",
    "    filter_size_height = conv_ksize[0]\n",
    "    filter_size_width = conv_ksize[1]\n",
    "    color_channels    = shape[3]\n",
    "    k_output = conv_num_outputs\n",
    "    weight = tf.Variable(tf.truncated_normal([filter_size_height, filter_size_width, color_channels, k_output]))\n",
    "    bias = tf.Variable(tf.zeros(k_output))\n",
    "    # Apply Convolution\n",
    "    conv_layer = tf.nn.conv2d(x_tensor, weight, strides=[1, conv_strides[0], conv_strides[1], 1], padding='SAME')\n",
    "    # Add bias\n",
    "    conv_layer = tf.nn.bias_add(conv_layer, bias)\n",
    "    # Apply activation function\n",
    "    conv_layer = tf.nn.relu(conv_layer)\n",
    "    # Apply Max Pooling\n",
    "    conv_layer = tf.nn.max_pool(conv_layer, ksize=[1, pool_ksize[0], pool_ksize[1], 1], strides=[1, pool_strides[0], pool_strides[1], 1], padding='SAME') \n",
    "    return conv_layer \n",
    "\n",
    "\n",
    "\"\"\"\n",
    "DON'T MODIFY ANYTHING IN THIS CELL THAT IS BELOW THIS LINE\n",
    "\"\"\"\n",
    "tests.test_con_pool(conv2d_maxpool)"
   ]
  },
  {
   "cell_type": "markdown",
   "metadata": {
    "deletable": true,
    "editable": true
   },
   "source": [
    "### Flatten Layer\n",
    "Implement the `flatten` function to change the dimension of `x_tensor` from a 4-D tensor to a 2-D tensor.  The output should be the shape (*Batch Size*, *Flattened Image Size*). Shortcut option: you can use classes from the [TensorFlow Layers](https://www.tensorflow.org/api_docs/python/tf/layers) or [TensorFlow Layers (contrib)](https://www.tensorflow.org/api_guides/python/contrib.layers) packages for this layer. For more of a challenge, only use other TensorFlow packages."
   ]
  },
  {
   "cell_type": "code",
   "execution_count": 9,
   "metadata": {
    "collapsed": false,
    "deletable": true,
    "editable": true
   },
   "outputs": [
    {
     "name": "stdout",
     "output_type": "stream",
     "text": [
      "Tests Passed\n"
     ]
    }
   ],
   "source": [
    "import numpy as np\n",
    "\n",
    "def flatten(x_tensor):\n",
    "    \"\"\"\n",
    "    Flatten x_tensor to (Batch Size, Flattened Image Size)\n",
    "    : x_tensor: A tensor of size (Batch Size, ...), where ... are the image dimensions.\n",
    "    : return: A tensor of size (Batch Size, Flattened Image Size).\n",
    "    \"\"\"\n",
    "    # Implement Function\n",
    "    return tf.contrib.layers.flatten(x_tensor)\n",
    "\n",
    "\n",
    "\"\"\"\n",
    "DON'T MODIFY ANYTHING IN THIS CELL THAT IS BELOW THIS LINE\n",
    "\"\"\"\n",
    "tests.test_flatten(flatten)"
   ]
  },
  {
   "cell_type": "markdown",
   "metadata": {
    "deletable": true,
    "editable": true
   },
   "source": [
    "### Fully-Connected Layer\n",
    "Implement the `fully_conn` function to apply a fully connected layer to `x_tensor` with the shape (*Batch Size*, *num_outputs*). Shortcut option: you can use classes from the [TensorFlow Layers](https://www.tensorflow.org/api_docs/python/tf/layers) or [TensorFlow Layers (contrib)](https://www.tensorflow.org/api_guides/python/contrib.layers) packages for this layer. For more of a challenge, only use other TensorFlow packages."
   ]
  },
  {
   "cell_type": "code",
   "execution_count": 24,
   "metadata": {
    "collapsed": false,
    "deletable": true,
    "editable": true
   },
   "outputs": [
    {
     "name": "stdout",
     "output_type": "stream",
     "text": [
      "Tests Passed\n"
     ]
    }
   ],
   "source": [
    "def fully_conn(x_tensor, num_outputs):\n",
    "    \"\"\"\n",
    "    Apply a fully connected layer to x_tensor using weight and bias\n",
    "    : x_tensor: A 2-D tensor where the first dimension is batch size.\n",
    "    : num_outputs: The number of output that the new tensor should be.\n",
    "    : return: A 2-D tensor where the second dimension is num_outputs.\n",
    "    \"\"\"\n",
    "    # TODO: Implement Function\n",
    "    #return tf.contrib.layers.fully_connected(x_tensor, num_outputs)\n",
    "    old_shape = x_tensor.get_shape().as_list()\n",
    "    shape = list( (old_shape[-1],) + (num_outputs,))\n",
    "    weight = tf.Variable(tf.truncated_normal(shape,0,0.1))\n",
    "    bias = tf.Variable(tf.zeros(num_outputs))\n",
    "    hidden_layer = tf.matmul(x_tensor,weight)\n",
    "    features = tf.nn.bias_add(hidden_layer, bias)\n",
    "    return tf.nn.relu(features)\n",
    "\n",
    "\n",
    "\"\"\"\n",
    "DON'T MODIFY ANYTHING IN THIS CELL THAT IS BELOW THIS LINE\n",
    "\"\"\"\n",
    "tests.test_fully_conn(fully_conn)"
   ]
  },
  {
   "cell_type": "markdown",
   "metadata": {
    "deletable": true,
    "editable": true
   },
   "source": [
    "### Output Layer\n",
    "Implement the `output` function to apply a fully connected layer to `x_tensor` with the shape (*Batch Size*, *num_outputs*). Shortcut option: you can use classes from the [TensorFlow Layers](https://www.tensorflow.org/api_docs/python/tf/layers) or [TensorFlow Layers (contrib)](https://www.tensorflow.org/api_guides/python/contrib.layers) packages for this layer. For more of a challenge, only use other TensorFlow packages.\n",
    "\n",
    "**Note:** Activation, softmax, or cross entropy should **not** be applied to this."
   ]
  },
  {
   "cell_type": "code",
   "execution_count": 25,
   "metadata": {
    "collapsed": false,
    "deletable": true,
    "editable": true
   },
   "outputs": [
    {
     "name": "stdout",
     "output_type": "stream",
     "text": [
      "Tests Passed\n"
     ]
    }
   ],
   "source": [
    "def output(x_tensor, num_outputs):\n",
    "    \"\"\"\n",
    "    Apply a output layer to x_tensor using weight and bias\n",
    "    : x_tensor: A 2-D tensor where the first dimension is batch size.\n",
    "    : num_outputs: The number of output that the new tensor should be.\n",
    "    : return: A 2-D tensor where the second dimension is num_outputs.\n",
    "    \"\"\"\n",
    "    # TODO: Implement Function\n",
    "    old_shape = x_tensor.get_shape().as_list()\n",
    "    shape = list( (old_shape[-1],) + (num_outputs,))\n",
    "    weight = tf.Variable(tf.truncated_normal(shape,0,0.01))\n",
    "    bias = tf.Variable(tf.zeros(num_outputs))\n",
    "    features = tf.add(tf.matmul(x_tensor, weight), bias)\n",
    "    return features\n",
    "    #return tf.contrib.layers.fully_connected(x_tensor, num_outputs)\n",
    "\n",
    "\n",
    "\"\"\"\n",
    "DON'T MODIFY ANYTHING IN THIS CELL THAT IS BELOW THIS LINE\n",
    "\"\"\"\n",
    "tests.test_output(output)"
   ]
  },
  {
   "cell_type": "markdown",
   "metadata": {
    "deletable": true,
    "editable": true
   },
   "source": [
    "### Create Convolutional Model\n",
    "Implement the function `conv_net` to create a convolutional neural network model. The function takes in a batch of images, `x`, and outputs logits.  Use the layers you created above to create this model:\n",
    "\n",
    "* Apply 1, 2, or 3 Convolution and Max Pool layers\n",
    "* Apply a Flatten Layer\n",
    "* Apply 1, 2, or 3 Fully Connected Layers\n",
    "* Apply an Output Layer\n",
    "* Return the output\n",
    "* Apply [TensorFlow's Dropout](https://www.tensorflow.org/api_docs/python/tf/nn/dropout) to one or more layers in the model using `keep_prob`. "
   ]
  },
  {
   "cell_type": "code",
   "execution_count": 31,
   "metadata": {
    "collapsed": false,
    "deletable": true,
    "editable": true
   },
   "outputs": [
    {
     "name": "stdout",
     "output_type": "stream",
     "text": [
      "Neural Network Built!\n"
     ]
    }
   ],
   "source": [
    "def conv_net(x, keep_prob):\n",
    "    \"\"\"\n",
    "    Create a convolutional neural network model\n",
    "    : x: Placeholder tensor that holds image data.\n",
    "    : keep_prob: Placeholder tensor that hold dropout keep probability.\n",
    "    : return: Tensor that represents logits\n",
    "    \"\"\"\n",
    "    # TODO: Apply 1, 2, or 3 Convolution and Max Pool layers\n",
    "    #    Play around with different number of outputs, kernel size and stride\n",
    "    # Function Definition from Above:\n",
    "    layer_maxpool = conv2d_maxpool(x, conv_num_outputs=16, conv_ksize=(4, 4), conv_strides=(1, 1), pool_ksize = (2, 2), \n",
    "                            pool_strides = (1, 1))\n",
    "    layer_maxpool = conv2d_maxpool(x, conv_num_outputs=32, conv_ksize=(4, 4), conv_strides=(1, 1), pool_ksize = (2, 2), \n",
    "                            pool_strides = (1, 1))\n",
    "    #more layer seems to return better results, but it would lead to out of memory as well\n",
    "    drop_layer = tf.nn.dropout(layer_maxpool, keep_prob)\n",
    "\n",
    "    # TODO: Apply a Flatten Layer\n",
    "    # Function Definition from Above:\n",
    "    flatten_layer = flatten(drop_layer)\n",
    "    \n",
    "\n",
    "    # TODO: Apply 1, 2, or 3 Fully Connected Layers\n",
    "    #    Play around with different number of outputs\n",
    "    # Function Definition from Above:\n",
    "    fully_layer = fully_conn(flatten_layer, num_outputs= 10)\n",
    "    dropout_fully_layer = tf.nn.dropout(fully_layer, keep_prob)\n",
    "\n",
    "    # TODO: Apply an Output Layer\n",
    "    #    Set this to the number of classes\n",
    "    # Function Definition from Above:\n",
    "    #   output(x_tensor, num_outputs)\n",
    "    result = output(fully_layer, 10)\n",
    "\n",
    "    \n",
    "    # TODO: return output\n",
    "    return result\n",
    "\n",
    "\n",
    "\"\"\"\n",
    "DON'T MODIFY ANYTHING IN THIS CELL THAT IS BELOW THIS LINE\n",
    "\"\"\"\n",
    "\n",
    "##############################\n",
    "## Build the Neural Network ##\n",
    "##############################\n",
    "\n",
    "# Remove previous weights, bias, inputs, etc..\n",
    "tf.reset_default_graph()\n",
    "\n",
    "# Inputs\n",
    "x = neural_net_image_input((32, 32, 3))\n",
    "y = neural_net_label_input(10)\n",
    "keep_prob = neural_net_keep_prob_input()\n",
    "\n",
    "# Model\n",
    "logits = conv_net(x, keep_prob)\n",
    "\n",
    "# Name logits Tensor, so that is can be loaded from disk after training\n",
    "logits = tf.identity(logits, name='logits')\n",
    "\n",
    "# Loss and Optimizer\n",
    "cost = tf.reduce_mean(tf.nn.softmax_cross_entropy_with_logits(logits=logits, labels=y))\n",
    "optimizer = tf.train.AdamOptimizer().minimize(cost)\n",
    "\n",
    "# Accuracy\n",
    "correct_pred = tf.equal(tf.argmax(logits, 1), tf.argmax(y, 1))\n",
    "accuracy = tf.reduce_mean(tf.cast(correct_pred, tf.float32), name='accuracy')\n",
    "\n",
    "tests.test_conv_net(conv_net)"
   ]
  },
  {
   "cell_type": "markdown",
   "metadata": {
    "deletable": true,
    "editable": true
   },
   "source": [
    "## Train the Neural Network\n",
    "### Single Optimization\n",
    "Implement the function `train_neural_network` to do a single optimization.  The optimization should use `optimizer` to optimize in `session` with a `feed_dict` of the following:\n",
    "* `x` for image input\n",
    "* `y` for labels\n",
    "* `keep_prob` for keep probability for dropout\n",
    "\n",
    "This function will be called for each batch, so `tf.global_variables_initializer()` has already been called.\n",
    "\n",
    "Note: Nothing needs to be returned. This function is only optimizing the neural network."
   ]
  },
  {
   "cell_type": "code",
   "execution_count": 32,
   "metadata": {
    "collapsed": false,
    "deletable": true,
    "editable": true
   },
   "outputs": [
    {
     "name": "stdout",
     "output_type": "stream",
     "text": [
      "Tests Passed\n"
     ]
    }
   ],
   "source": [
    "def train_neural_network(session, optimizer, keep_probability, feature_batch, label_batch):\n",
    "    \"\"\"\n",
    "    Optimize the session on a batch of images and labels\n",
    "    : session: Current TensorFlow session\n",
    "    : optimizer: TensorFlow optimizer function\n",
    "    : keep_probability: keep probability\n",
    "    : feature_batch: Batch of Numpy image data\n",
    "    : label_batch: Batch of Numpy label data\n",
    "    \"\"\"\n",
    "    # TODO: Implement Function\n",
    "    session.run(optimizer, feed_dict={x:feature_batch, y:label_batch, keep_prob:keep_probability})\n",
    "\n",
    "\n",
    "\n",
    "\"\"\"\n",
    "DON'T MODIFY ANYTHING IN THIS CELL THAT IS BELOW THIS LINE\n",
    "\"\"\"\n",
    "tests.test_train_nn(train_neural_network)"
   ]
  },
  {
   "cell_type": "markdown",
   "metadata": {
    "deletable": true,
    "editable": true
   },
   "source": [
    "### Show Stats\n",
    "Implement the function `print_stats` to print loss and validation accuracy.  Use the global variables `valid_features` and `valid_labels` to calculate validation accuracy.  Use a keep probability of `1.0` to calculate the loss and validation accuracy."
   ]
  },
  {
   "cell_type": "code",
   "execution_count": 33,
   "metadata": {
    "collapsed": false,
    "deletable": true,
    "editable": true
   },
   "outputs": [],
   "source": [
    "def print_stats(session, feature_batch, label_batch, cost, accuracy):\n",
    "    \"\"\"\n",
    "    Print information about loss and validation accuracy\n",
    "    : session: Current TensorFlow session\n",
    "    : feature_batch: Batch of Numpy image data\n",
    "    : label_batch: Batch of Numpy label data\n",
    "    : cost: TensorFlow cost function\n",
    "    : accuracy: TensorFlow accuracy function\n",
    "    \"\"\"\n",
    "    # TODO: Implement Function\n",
    "    loss = session.run(cost, feed_dict={x:feature_batch, y:label_batch, keep_prob:1.0})\n",
    "    validation_accuracy = sess.run(accuracy, feed_dict={x: valid_features, y: valid_labels, keep_prob: 1.0})\n",
    "    print('Loss: {:10.8f} Validation Accuracy: {:.8f}'.format(loss, validation_accuracy))\n",
    "\n",
    "\n",
    "\n"
   ]
  },
  {
   "cell_type": "markdown",
   "metadata": {
    "deletable": true,
    "editable": true
   },
   "source": [
    "### Hyperparameters\n",
    "Tune the following parameters:\n",
    "* Set `epochs` to the number of iterations until the network stops learning or start overfitting\n",
    "* Set `batch_size` to the highest number that your machine has memory for.  Most people set them to common sizes of memory:\n",
    " * 64\n",
    " * 128\n",
    " * 256\n",
    " * ...\n",
    "* Set `keep_probability` to the probability of keeping a node using dropout"
   ]
  },
  {
   "cell_type": "code",
   "execution_count": 46,
   "metadata": {
    "collapsed": true,
    "deletable": true,
    "editable": true
   },
   "outputs": [],
   "source": [
    "# TODO: Tune Parameters\n",
    "epochs = 50\n",
    "batch_size = 128 # seems to be too much 256 .128 seems to be a good spot\n",
    "keep_probability = 0.4"
   ]
  },
  {
   "cell_type": "markdown",
   "metadata": {
    "deletable": true,
    "editable": true
   },
   "source": [
    "### Train on a Single CIFAR-10 Batch\n",
    "Instead of training the neural network on all the CIFAR-10 batches of data, let's use a single batch. This should save time while you iterate on the model to get a better accuracy.  Once the final validation accuracy is 50% or greater, run the model on all the data in the next section."
   ]
  },
  {
   "cell_type": "code",
   "execution_count": 47,
   "metadata": {
    "collapsed": false,
    "deletable": true,
    "editable": true
   },
   "outputs": [
    {
     "name": "stdout",
     "output_type": "stream",
     "text": [
      "Checking the Training on a Single Batch...\n",
      "Epoch  1, CIFAR-10 Batch 1:  Loss: 2.30325556 Validation Accuracy: 0.10140000\n",
      "Epoch  2, CIFAR-10 Batch 1:  Loss: 2.26306868 Validation Accuracy: 0.14039999\n",
      "Epoch  3, CIFAR-10 Batch 1:  Loss: 2.29365778 Validation Accuracy: 0.15699999\n",
      "Epoch  4, CIFAR-10 Batch 1:  Loss: 2.27775097 Validation Accuracy: 0.15660000\n",
      "Epoch  5, CIFAR-10 Batch 1:  Loss: 2.27448058 Validation Accuracy: 0.15420000\n",
      "Epoch  6, CIFAR-10 Batch 1:  Loss: 2.24694252 Validation Accuracy: 0.16679999\n",
      "Epoch  7, CIFAR-10 Batch 1:  Loss: 2.11419678 Validation Accuracy: 0.21119998\n",
      "Epoch  8, CIFAR-10 Batch 1:  Loss: 2.08649588 Validation Accuracy: 0.23759997\n",
      "Epoch  9, CIFAR-10 Batch 1:  Loss: 2.02039552 Validation Accuracy: 0.24419999\n",
      "Epoch 10, CIFAR-10 Batch 1:  Loss: 1.97795510 Validation Accuracy: 0.25199997\n",
      "Epoch 11, CIFAR-10 Batch 1:  Loss: 1.94442654 Validation Accuracy: 0.27859998\n",
      "Epoch 12, CIFAR-10 Batch 1:  Loss: 1.84877396 Validation Accuracy: 0.29119998\n",
      "Epoch 13, CIFAR-10 Batch 1:  Loss: 1.78513288 Validation Accuracy: 0.32739997\n",
      "Epoch 14, CIFAR-10 Batch 1:  Loss: 1.69315290 Validation Accuracy: 0.35479999\n",
      "Epoch 15, CIFAR-10 Batch 1:  Loss: 1.59217691 Validation Accuracy: 0.37519997\n",
      "Epoch 16, CIFAR-10 Batch 1:  Loss: 1.49163628 Validation Accuracy: 0.39119998\n",
      "Epoch 17, CIFAR-10 Batch 1:  Loss: 1.45056224 Validation Accuracy: 0.39059997\n",
      "Epoch 18, CIFAR-10 Batch 1:  Loss: 1.41626668 Validation Accuracy: 0.39859998\n",
      "Epoch 19, CIFAR-10 Batch 1:  Loss: 1.38476014 Validation Accuracy: 0.43079996\n",
      "Epoch 20, CIFAR-10 Batch 1:  Loss: 1.25557864 Validation Accuracy: 0.44739997\n",
      "Epoch 21, CIFAR-10 Batch 1:  Loss: 1.17961264 Validation Accuracy: 0.44879997\n",
      "Epoch 22, CIFAR-10 Batch 1:  Loss: 1.14177084 Validation Accuracy: 0.45539996\n",
      "Epoch 23, CIFAR-10 Batch 1:  Loss: 1.10865128 Validation Accuracy: 0.46340001\n",
      "Epoch 24, CIFAR-10 Batch 1:  Loss: 1.09704065 Validation Accuracy: 0.46539998\n",
      "Epoch 25, CIFAR-10 Batch 1:  Loss: 1.05055058 Validation Accuracy: 0.47619995\n",
      "Epoch 26, CIFAR-10 Batch 1:  Loss: 1.02008939 Validation Accuracy: 0.47879997\n",
      "Epoch 27, CIFAR-10 Batch 1:  Loss: 0.95819640 Validation Accuracy: 0.48140001\n",
      "Epoch 28, CIFAR-10 Batch 1:  Loss: 0.95060039 Validation Accuracy: 0.47839996\n",
      "Epoch 29, CIFAR-10 Batch 1:  Loss: 0.89243585 Validation Accuracy: 0.48399994\n",
      "Epoch 30, CIFAR-10 Batch 1:  Loss: 0.83507413 Validation Accuracy: 0.47779998\n",
      "Epoch 31, CIFAR-10 Batch 1:  Loss: 0.80879265 Validation Accuracy: 0.48499995\n",
      "Epoch 32, CIFAR-10 Batch 1:  Loss: 0.76560444 Validation Accuracy: 0.49419996\n",
      "Epoch 33, CIFAR-10 Batch 1:  Loss: 0.74341339 Validation Accuracy: 0.49919999\n",
      "Epoch 34, CIFAR-10 Batch 1:  Loss: 0.74959081 Validation Accuracy: 0.49799997\n",
      "Epoch 35, CIFAR-10 Batch 1:  Loss: 0.75358081 Validation Accuracy: 0.50679994\n",
      "Epoch 36, CIFAR-10 Batch 1:  Loss: 0.71810395 Validation Accuracy: 0.50599992\n",
      "Epoch 37, CIFAR-10 Batch 1:  Loss: 0.69632667 Validation Accuracy: 0.50619996\n",
      "Epoch 38, CIFAR-10 Batch 1:  Loss: 0.68674350 Validation Accuracy: 0.51019996\n",
      "Epoch 39, CIFAR-10 Batch 1:  Loss: 0.65398896 Validation Accuracy: 0.50859994\n",
      "Epoch 40, CIFAR-10 Batch 1:  Loss: 0.64497554 Validation Accuracy: 0.50799990\n",
      "Epoch 41, CIFAR-10 Batch 1:  Loss: 0.64408427 Validation Accuracy: 0.50580001\n",
      "Epoch 42, CIFAR-10 Batch 1:  Loss: 0.64829165 Validation Accuracy: 0.50399995\n",
      "Epoch 43, CIFAR-10 Batch 1:  Loss: 0.62002665 Validation Accuracy: 0.50499994\n",
      "Epoch 44, CIFAR-10 Batch 1:  Loss: 0.59665203 Validation Accuracy: 0.50539994\n",
      "Epoch 45, CIFAR-10 Batch 1:  Loss: 0.59095234 Validation Accuracy: 0.50440001\n",
      "Epoch 46, CIFAR-10 Batch 1:  Loss: 0.54901379 Validation Accuracy: 0.51239997\n",
      "Epoch 47, CIFAR-10 Batch 1:  Loss: 0.53925079 Validation Accuracy: 0.50900000\n",
      "Epoch 48, CIFAR-10 Batch 1:  Loss: 0.51555526 Validation Accuracy: 0.51400000\n",
      "Epoch 49, CIFAR-10 Batch 1:  Loss: 0.51806587 Validation Accuracy: 0.50739992\n",
      "Epoch 50, CIFAR-10 Batch 1:  Loss: 0.51115119 Validation Accuracy: 0.51039994\n"
     ]
    }
   ],
   "source": [
    "\"\"\"\n",
    "DON'T MODIFY ANYTHING IN THIS CELL\n",
    "\"\"\"\n",
    "print('Checking the Training on a Single Batch...')\n",
    "with tf.Session() as sess:\n",
    "    # Initializing the variables\n",
    "    sess.run(tf.global_variables_initializer())\n",
    "    \n",
    "    # Training cycle\n",
    "    for epoch in range(epochs):\n",
    "        batch_i = 1\n",
    "        for batch_features, batch_labels in helper.load_preprocess_training_batch(batch_i, batch_size):\n",
    "            train_neural_network(sess, optimizer, keep_probability, batch_features, batch_labels)\n",
    "        print('Epoch {:>2}, CIFAR-10 Batch {}:  '.format(epoch + 1, batch_i), end='')\n",
    "        print_stats(sess, batch_features, batch_labels, cost, accuracy)"
   ]
  },
  {
   "cell_type": "markdown",
   "metadata": {
    "deletable": true,
    "editable": true
   },
   "source": [
    "### Fully Train the Model\n",
    "Now that you got a good accuracy with a single CIFAR-10 batch, try it with all five batches."
   ]
  },
  {
   "cell_type": "code",
   "execution_count": null,
   "metadata": {
    "collapsed": false,
    "deletable": true,
    "editable": true
   },
   "outputs": [
    {
     "name": "stdout",
     "output_type": "stream",
     "text": [
      "Training...\n",
      "Epoch  1, CIFAR-10 Batch 1:  Loss: 2.24666786 Validation Accuracy: 0.16299999\n",
      "Epoch  1, CIFAR-10 Batch 2:  Loss: 2.21868134 Validation Accuracy: 0.16020000\n",
      "Epoch  1, CIFAR-10 Batch 3:  Loss: 2.22679090 Validation Accuracy: 0.17199999\n",
      "Epoch  1, CIFAR-10 Batch 4:  Loss: 2.21643710 Validation Accuracy: 0.16639999\n",
      "Epoch  1, CIFAR-10 Batch 5:  Loss: 2.17561221 Validation Accuracy: 0.16039999\n",
      "Epoch  2, CIFAR-10 Batch 1:  Loss: 2.18654227 Validation Accuracy: 0.19360000\n",
      "Epoch  2, CIFAR-10 Batch 2:  Loss: 2.09446812 Validation Accuracy: 0.19540000\n",
      "Epoch  2, CIFAR-10 Batch 3:  Loss: 1.72970355 Validation Accuracy: 0.22879998\n",
      "Epoch  2, CIFAR-10 Batch 4:  Loss: 1.89672661 Validation Accuracy: 0.26440001\n",
      "Epoch  2, CIFAR-10 Batch 5:  Loss: 1.78765285 Validation Accuracy: 0.27880001\n",
      "Epoch  3, CIFAR-10 Batch 1:  Loss: 1.91869688 Validation Accuracy: 0.30440000\n",
      "Epoch  3, CIFAR-10 Batch 2:  Loss: 1.58829319 Validation Accuracy: 0.33419997\n",
      "Epoch  3, CIFAR-10 Batch 3:  Loss: 1.39588511 Validation Accuracy: 0.36599997\n",
      "Epoch  3, CIFAR-10 Batch 4:  Loss: 1.62898946 Validation Accuracy: 0.39519995\n",
      "Epoch  3, CIFAR-10 Batch 5:  Loss: 1.60444331 Validation Accuracy: 0.41119996\n",
      "Epoch  4, CIFAR-10 Batch 1:  Loss: 1.63033795 Validation Accuracy: 0.41879997\n",
      "Epoch  4, CIFAR-10 Batch 2:  Loss: 1.30996966 Validation Accuracy: 0.44139996\n",
      "Epoch  4, CIFAR-10 Batch 3:  Loss: 1.10932934 Validation Accuracy: 0.43099999\n",
      "Epoch  4, CIFAR-10 Batch 4:  Loss: 1.45313931 Validation Accuracy: 0.46279994\n",
      "Epoch  4, CIFAR-10 Batch 5:  Loss: 1.36631465 Validation Accuracy: 0.47379994\n",
      "Epoch  5, CIFAR-10 Batch 1:  Loss: 1.48789191 Validation Accuracy: 0.49119994\n",
      "Epoch  5, CIFAR-10 Batch 2:  Loss: 1.18463969 Validation Accuracy: 0.49159992\n",
      "Epoch  5, CIFAR-10 Batch 3:  Loss: 0.99583662 Validation Accuracy: 0.48699999\n",
      "Epoch  5, CIFAR-10 Batch 4:  Loss: 1.35430729 Validation Accuracy: 0.50459993\n",
      "Epoch  5, CIFAR-10 Batch 5:  Loss: 1.29095614 Validation Accuracy: 0.50419998\n",
      "Epoch  6, CIFAR-10 Batch 1:  Loss: 1.30481672 Validation Accuracy: 0.51939994\n",
      "Epoch  6, CIFAR-10 Batch 2:  Loss: 1.08893406 Validation Accuracy: 0.52579993\n",
      "Epoch  6, CIFAR-10 Batch 3:  Loss: 0.92227006 Validation Accuracy: 0.51959991\n",
      "Epoch  6, CIFAR-10 Batch 4:  Loss: 1.33617437 Validation Accuracy: 0.52419996\n",
      "Epoch  6, CIFAR-10 Batch 5:  Loss: 1.16744947 Validation Accuracy: 0.52899992\n",
      "Epoch  7, CIFAR-10 Batch 1:  Loss: 1.24153638 Validation Accuracy: 0.53999996\n",
      "Epoch  7, CIFAR-10 Batch 2:  Loss: 1.02484429 Validation Accuracy: 0.53479993\n",
      "Epoch  7, CIFAR-10 Batch 3:  Loss: 0.87252128 Validation Accuracy: 0.52739990\n",
      "Epoch  7, CIFAR-10 Batch 4:  Loss: 1.28225923 Validation Accuracy: 0.54739994\n",
      "Epoch  7, CIFAR-10 Batch 5:  Loss: 1.11395562 Validation Accuracy: 0.54039997\n",
      "Epoch  8, CIFAR-10 Batch 1:  Loss: 1.16176307 Validation Accuracy: 0.54079992\n",
      "Epoch  8, CIFAR-10 Batch 2:  Loss: 0.98507810 Validation Accuracy: 0.54479992\n",
      "Epoch  8, CIFAR-10 Batch 3:  Loss: 0.79898870 Validation Accuracy: 0.54579997\n",
      "Epoch  8, CIFAR-10 Batch 4:  Loss: 1.27289605 Validation Accuracy: 0.54499996\n",
      "Epoch  8, CIFAR-10 Batch 5:  Loss: 1.02083182 Validation Accuracy: 0.54659992\n",
      "Epoch  9, CIFAR-10 Batch 1:  Loss: 1.11435771 Validation Accuracy: 0.55319995\n",
      "Epoch  9, CIFAR-10 Batch 2:  Loss: 0.95264065 Validation Accuracy: 0.54979992\n",
      "Epoch  9, CIFAR-10 Batch 3:  Loss: 0.77960896 Validation Accuracy: 0.55519998\n",
      "Epoch  9, CIFAR-10 Batch 4:  Loss: 1.20779741 Validation Accuracy: 0.55999994\n",
      "Epoch  9, CIFAR-10 Batch 5:  Loss: 0.98350966 Validation Accuracy: 0.55139995\n",
      "Epoch 10, CIFAR-10 Batch 1:  Loss: 1.07091022 Validation Accuracy: 0.55239987\n",
      "Epoch 10, CIFAR-10 Batch 2:  Loss: 0.92044318 Validation Accuracy: 0.56019992\n",
      "Epoch 10, CIFAR-10 Batch 3:  Loss: 0.74104041 Validation Accuracy: 0.55419993\n",
      "Epoch 10, CIFAR-10 Batch 4:  Loss: 1.18635201 Validation Accuracy: 0.56179988\n",
      "Epoch 10, CIFAR-10 Batch 5:  Loss: 0.94865710 Validation Accuracy: 0.55779994\n",
      "Epoch 11, CIFAR-10 Batch 1:  Loss: 1.07320690 Validation Accuracy: 0.56559992\n",
      "Epoch 11, CIFAR-10 Batch 2:  Loss: 0.89982307 Validation Accuracy: 0.56419992\n",
      "Epoch 11, CIFAR-10 Batch 3:  Loss: 0.73732483 Validation Accuracy: 0.55779994\n",
      "Epoch 11, CIFAR-10 Batch 4:  Loss: 1.17923999 Validation Accuracy: 0.57119989\n",
      "Epoch 11, CIFAR-10 Batch 5:  Loss: 0.88140094 Validation Accuracy: 0.56699985\n",
      "Epoch 12, CIFAR-10 Batch 1:  Loss: 1.01572394 Validation Accuracy: 0.56739992\n",
      "Epoch 12, CIFAR-10 Batch 2:  Loss: 0.85477287 Validation Accuracy: 0.55899990\n",
      "Epoch 12, CIFAR-10 Batch 3:  Loss: 0.69996715 Validation Accuracy: 0.56559992\n",
      "Epoch 12, CIFAR-10 Batch 4:  Loss: 1.11404586 Validation Accuracy: 0.57039994\n",
      "Epoch 12, CIFAR-10 Batch 5:  Loss: 0.86853838 Validation Accuracy: 0.56659997\n",
      "Epoch 13, CIFAR-10 Batch 1:  Loss: 1.00126565 Validation Accuracy: 0.57019991\n",
      "Epoch 13, CIFAR-10 Batch 2:  Loss: 0.83022666 Validation Accuracy: 0.57199991\n",
      "Epoch 13, CIFAR-10 Batch 3:  Loss: 0.66339004 Validation Accuracy: 0.57539988\n",
      "Epoch 13, CIFAR-10 Batch 4:  Loss: 1.09173584 Validation Accuracy: 0.57159990\n",
      "Epoch 13, CIFAR-10 Batch 5:  Loss: 0.84614307 Validation Accuracy: 0.56679994\n",
      "Epoch 14, CIFAR-10 Batch 1:  Loss: 0.95764768 Validation Accuracy: 0.57299995\n",
      "Epoch 14, CIFAR-10 Batch 2:  Loss: 0.80103302 Validation Accuracy: 0.57619995\n",
      "Epoch 14, CIFAR-10 Batch 3:  Loss: 0.67527497 Validation Accuracy: 0.58219993\n",
      "Epoch 14, CIFAR-10 Batch 4:  Loss: 1.05643487 Validation Accuracy: 0.57979995\n",
      "Epoch 14, CIFAR-10 Batch 5:  Loss: 0.81659245 Validation Accuracy: 0.57079995\n",
      "Epoch 15, CIFAR-10 Batch 1:  Loss: 0.95443749 Validation Accuracy: 0.57459992\n",
      "Epoch 15, CIFAR-10 Batch 2:  Loss: 0.80874676 Validation Accuracy: 0.57299995\n",
      "Epoch 15, CIFAR-10 Batch 3:  Loss: 0.65951127 Validation Accuracy: 0.57819992\n",
      "Epoch 15, CIFAR-10 Batch 4:  Loss: 1.01568615 Validation Accuracy: 0.58579987\n",
      "Epoch 15, CIFAR-10 Batch 5:  Loss: 0.78151107 Validation Accuracy: 0.58679992\n",
      "Epoch 16, CIFAR-10 Batch 1:  Loss: 0.90361422 Validation Accuracy: 0.57979989\n",
      "Epoch 16, CIFAR-10 Batch 2:  Loss: 0.79601431 Validation Accuracy: 0.58519989\n",
      "Epoch 16, CIFAR-10 Batch 3:  Loss: 0.63317144 Validation Accuracy: 0.58359987\n",
      "Epoch 16, CIFAR-10 Batch 4:  Loss: 0.99210680 Validation Accuracy: 0.58639985\n",
      "Epoch 16, CIFAR-10 Batch 5:  Loss: 0.76651782 Validation Accuracy: 0.58359993\n",
      "Epoch 17, CIFAR-10 Batch 1:  Loss: 0.87135786 Validation Accuracy: 0.58539993\n",
      "Epoch 17, CIFAR-10 Batch 2:  Loss: 0.78554928 Validation Accuracy: 0.58439988\n",
      "Epoch 17, CIFAR-10 Batch 3:  Loss: 0.60805738 Validation Accuracy: 0.58499992\n",
      "Epoch 17, CIFAR-10 Batch 4:  Loss: 0.96661890 Validation Accuracy: 0.58139992\n",
      "Epoch 17, CIFAR-10 Batch 5:  Loss: 0.74900120 Validation Accuracy: 0.58239996\n",
      "Epoch 18, CIFAR-10 Batch 1:  Loss: 0.86594963 Validation Accuracy: 0.58519983\n",
      "Epoch 18, CIFAR-10 Batch 2:  Loss: 0.77295232 Validation Accuracy: 0.58699989\n",
      "Epoch 18, CIFAR-10 Batch 3:  Loss: 0.61227560 Validation Accuracy: 0.59079993\n",
      "Epoch 18, CIFAR-10 Batch 4:  Loss: 0.93136156 Validation Accuracy: 0.58839995\n",
      "Epoch 18, CIFAR-10 Batch 5:  Loss: 0.72500217 Validation Accuracy: 0.58659995\n",
      "Epoch 19, CIFAR-10 Batch 1:  Loss: 0.84500694 Validation Accuracy: 0.59159994\n",
      "Epoch 19, CIFAR-10 Batch 2:  Loss: 0.77319670 Validation Accuracy: 0.58799994\n",
      "Epoch 19, CIFAR-10 Batch 3:  Loss: 0.58662260 Validation Accuracy: 0.58859992\n",
      "Epoch 19, CIFAR-10 Batch 4:  Loss: 0.91243160 Validation Accuracy: 0.59439993\n",
      "Epoch 19, CIFAR-10 Batch 5:  Loss: 0.73366249 Validation Accuracy: 0.59259999\n",
      "Epoch 20, CIFAR-10 Batch 1:  Loss: 0.82627338 Validation Accuracy: 0.58979994\n",
      "Epoch 20, CIFAR-10 Batch 2:  Loss: 0.72906476 Validation Accuracy: 0.59299988\n",
      "Epoch 20, CIFAR-10 Batch 3:  Loss: 0.55954015 Validation Accuracy: 0.58719993\n",
      "Epoch 20, CIFAR-10 Batch 4:  Loss: 0.86847913 Validation Accuracy: 0.58919990\n",
      "Epoch 20, CIFAR-10 Batch 5:  Loss: 0.69526827 Validation Accuracy: 0.59480000\n",
      "Epoch 21, CIFAR-10 Batch 1:  Loss: 0.81597751 Validation Accuracy: 0.59559989\n",
      "Epoch 21, CIFAR-10 Batch 2:  Loss: 0.73774344 Validation Accuracy: 0.59179986\n",
      "Epoch 21, CIFAR-10 Batch 3:  Loss: 0.56005239 Validation Accuracy: 0.59499991\n",
      "Epoch 21, CIFAR-10 Batch 4:  Loss: 0.86289811 Validation Accuracy: 0.59619993\n",
      "Epoch 21, CIFAR-10 Batch 5:  Loss: 0.68000281 Validation Accuracy: 0.59079993\n",
      "Epoch 22, CIFAR-10 Batch 1:  Loss: 0.83030474 Validation Accuracy: 0.59499991\n",
      "Epoch 22, CIFAR-10 Batch 2:  Loss: 0.73976743 Validation Accuracy: 0.60199994\n",
      "Epoch 22, CIFAR-10 Batch 3:  Loss: 0.57088995 Validation Accuracy: 0.60119992\n",
      "Epoch 22, CIFAR-10 Batch 4:  Loss: 0.87188458 Validation Accuracy: 0.59379995\n",
      "Epoch 22, CIFAR-10 Batch 5:  Loss: 0.67663193 Validation Accuracy: 0.59019989\n",
      "Epoch 23, CIFAR-10 Batch 1:  Loss: 0.80735171 Validation Accuracy: 0.59719998\n",
      "Epoch 23, CIFAR-10 Batch 2:  Loss: 0.73524058 Validation Accuracy: 0.59939992\n",
      "Epoch 23, CIFAR-10 Batch 3:  Loss: 0.56865263 Validation Accuracy: 0.59839994\n",
      "Epoch 23, CIFAR-10 Batch 4:  Loss: 0.84350967 Validation Accuracy: 0.59459996\n",
      "Epoch 23, CIFAR-10 Batch 5:  Loss: 0.65498978 Validation Accuracy: 0.59399992\n",
      "Epoch 24, CIFAR-10 Batch 1:  Loss: 0.81741214 Validation Accuracy: 0.59759992\n",
      "Epoch 24, CIFAR-10 Batch 2:  Loss: 0.71738148 Validation Accuracy: 0.59919989\n",
      "Epoch 24, CIFAR-10 Batch 3:  Loss: 0.55306631 Validation Accuracy: 0.60839987\n",
      "Epoch 24, CIFAR-10 Batch 4:  Loss: 0.81976259 Validation Accuracy: 0.59739995\n",
      "Epoch 24, CIFAR-10 Batch 5:  Loss: 0.66703981 Validation Accuracy: 0.59199995\n",
      "Epoch 25, CIFAR-10 Batch 1:  Loss: 0.79342759 Validation Accuracy: 0.59599996\n",
      "Epoch 25, CIFAR-10 Batch 2:  Loss: 0.68707037 Validation Accuracy: 0.60559994\n",
      "Epoch 25, CIFAR-10 Batch 3:  Loss: 0.52315891 Validation Accuracy: 0.61019987\n",
      "Epoch 25, CIFAR-10 Batch 4:  Loss: 0.78928894 Validation Accuracy: 0.59859997\n",
      "Epoch 25, CIFAR-10 Batch 5:  Loss: 0.62856716 Validation Accuracy: 0.60039991\n",
      "Epoch 26, CIFAR-10 Batch 1:  Loss: 0.77387881 Validation Accuracy: 0.59379995\n",
      "Epoch 26, CIFAR-10 Batch 2:  Loss: 0.67961490 Validation Accuracy: 0.60559988\n",
      "Epoch 26, CIFAR-10 Batch 3:  Loss: 0.50047505 Validation Accuracy: 0.59659994\n",
      "Epoch 26, CIFAR-10 Batch 4:  Loss: 0.78653222 Validation Accuracy: 0.59579992\n",
      "Epoch 26, CIFAR-10 Batch 5:  Loss: 0.60531217 Validation Accuracy: 0.60779989\n",
      "Epoch 27, CIFAR-10 Batch 1:  Loss: 0.72512984 Validation Accuracy: 0.60719991\n",
      "Epoch 27, CIFAR-10 Batch 2:  Loss: 0.67972213 Validation Accuracy: 0.60359991\n",
      "Epoch 27, CIFAR-10 Batch 3:  Loss: 0.50679189 Validation Accuracy: 0.60699987\n",
      "Epoch 27, CIFAR-10 Batch 4:  Loss: 0.76417261 Validation Accuracy: 0.59979987\n",
      "Epoch 27, CIFAR-10 Batch 5:  Loss: 0.61087394 Validation Accuracy: 0.60199994\n",
      "Epoch 28, CIFAR-10 Batch 1:  Loss: 0.71923941 Validation Accuracy: 0.60619992\n",
      "Epoch 28, CIFAR-10 Batch 2:  Loss: 0.70683676 Validation Accuracy: 0.60079992\n",
      "Epoch 28, CIFAR-10 Batch 3:  Loss: 0.51153934 Validation Accuracy: 0.60179991\n",
      "Epoch 28, CIFAR-10 Batch 4:  Loss: 0.72085673 Validation Accuracy: 0.60679990\n",
      "Epoch 28, CIFAR-10 Batch 5:  Loss: 0.60855150 Validation Accuracy: 0.60099995\n",
      "Epoch 29, CIFAR-10 Batch 1:  Loss: 0.73192155 Validation Accuracy: 0.60259998\n",
      "Epoch 29, CIFAR-10 Batch 2:  Loss: 0.68185288 Validation Accuracy: 0.59879994\n",
      "Epoch 29, CIFAR-10 Batch 3:  Loss: 0.49219561 Validation Accuracy: 0.60659993\n",
      "Epoch 29, CIFAR-10 Batch 4:  Loss: 0.72218812 Validation Accuracy: 0.60839999\n",
      "Epoch 29, CIFAR-10 Batch 5:  Loss: 0.59880197 Validation Accuracy: 0.60819989\n",
      "Epoch 30, CIFAR-10 Batch 1:  Loss: 0.69284928 Validation Accuracy: 0.61019993\n",
      "Epoch 30, CIFAR-10 Batch 2:  Loss: 0.69785631 Validation Accuracy: 0.59759992\n",
      "Epoch 30, CIFAR-10 Batch 3:  Loss: 0.49253702 Validation Accuracy: 0.60539985\n",
      "Epoch 30, CIFAR-10 Batch 4:  Loss: 0.72078592 Validation Accuracy: 0.61259985\n",
      "Epoch 30, CIFAR-10 Batch 5:  Loss: 0.61332107 Validation Accuracy: 0.60519993\n",
      "Epoch 31, CIFAR-10 Batch 1:  Loss: 0.68208557 Validation Accuracy: 0.61139989\n",
      "Epoch 31, CIFAR-10 Batch 2:  Loss: 0.64494908 Validation Accuracy: 0.60719991\n",
      "Epoch 31, CIFAR-10 Batch 3:  Loss: 0.49395224 Validation Accuracy: 0.61159986\n",
      "Epoch 31, CIFAR-10 Batch 4:  Loss: 0.72164941 Validation Accuracy: 0.60639989\n",
      "Epoch 31, CIFAR-10 Batch 5:  Loss: 0.57546747 Validation Accuracy: 0.60639989\n",
      "Epoch 32, CIFAR-10 Batch 1:  Loss: 0.68289894 Validation Accuracy: 0.61539990\n",
      "Epoch 32, CIFAR-10 Batch 2:  Loss: 0.65324754 Validation Accuracy: 0.60719991\n",
      "Epoch 32, CIFAR-10 Batch 3:  Loss: 0.48578966 Validation Accuracy: 0.61000001\n",
      "Epoch 32, CIFAR-10 Batch 4:  Loss: 0.70273423 Validation Accuracy: 0.60479987\n",
      "Epoch 32, CIFAR-10 Batch 5:  Loss: 0.56864578 Validation Accuracy: 0.60719991\n",
      "Epoch 33, CIFAR-10 Batch 1:  Loss: 0.68676484 Validation Accuracy: 0.61399990\n",
      "Epoch 33, CIFAR-10 Batch 2:  Loss: 0.61716491 Validation Accuracy: 0.60799992\n",
      "Epoch 33, CIFAR-10 Batch 3:  Loss: 0.47769865 Validation Accuracy: 0.61179996\n",
      "Epoch 33, CIFAR-10 Batch 4:  Loss: 0.71540487 Validation Accuracy: 0.60459989\n",
      "Epoch 33, CIFAR-10 Batch 5:  Loss: 0.54930121 Validation Accuracy: 0.61479992\n",
      "Epoch 34, CIFAR-10 Batch 1:  Loss: 0.68835056 Validation Accuracy: 0.61019993\n",
      "Epoch 34, CIFAR-10 Batch 2:  Loss: 0.61075443 Validation Accuracy: 0.60619992\n",
      "Epoch 34, CIFAR-10 Batch 3:  Loss: 0.45757437 Validation Accuracy: 0.61179990\n",
      "Epoch 34, CIFAR-10 Batch 4:  Loss: 0.70175874 Validation Accuracy: 0.60939991\n",
      "Epoch 34, CIFAR-10 Batch 5:  Loss: 0.56606710 Validation Accuracy: 0.61699992\n",
      "Epoch 35, CIFAR-10 Batch 1:  Loss: 0.65292275 Validation Accuracy: 0.61559993\n",
      "Epoch 35, CIFAR-10 Batch 2:  Loss: 0.61949569 Validation Accuracy: 0.61359996\n",
      "Epoch 35, CIFAR-10 Batch 3:  Loss: 0.45502943 Validation Accuracy: 0.61439991\n",
      "Epoch 35, CIFAR-10 Batch 4:  Loss: 0.66160971 Validation Accuracy: 0.60979986\n",
      "Epoch 35, CIFAR-10 Batch 5:  Loss: 0.56813347 Validation Accuracy: 0.61579990\n",
      "Epoch 36, CIFAR-10 Batch 1:  Loss: 0.63668042 Validation Accuracy: 0.61519992\n",
      "Epoch 36, CIFAR-10 Batch 2:  Loss: 0.63507229 Validation Accuracy: 0.60619992\n",
      "Epoch 36, CIFAR-10 Batch 3:  Loss: 0.45723230 Validation Accuracy: 0.60999995\n",
      "Epoch 36, CIFAR-10 Batch 4:  Loss: 0.65114826 Validation Accuracy: 0.61219996\n",
      "Epoch 36, CIFAR-10 Batch 5:  Loss: 0.53828943 Validation Accuracy: 0.61119992\n",
      "Epoch 37, CIFAR-10 Batch 1:  Loss: 0.59612972 Validation Accuracy: 0.61519992\n",
      "Epoch 37, CIFAR-10 Batch 2:  Loss: 0.60115570 Validation Accuracy: 0.61039990\n",
      "Epoch 37, CIFAR-10 Batch 3:  Loss: 0.43945846 Validation Accuracy: 0.60999995\n",
      "Epoch 37, CIFAR-10 Batch 4:  Loss: 0.64485139 Validation Accuracy: 0.61099994\n",
      "Epoch 37, CIFAR-10 Batch 5:  Loss: 0.52333558 Validation Accuracy: 0.60959995\n",
      "Epoch 38, CIFAR-10 Batch 1:  Loss: 0.59969246 Validation Accuracy: 0.61499989\n",
      "Epoch 38, CIFAR-10 Batch 2:  Loss: 0.60354841 Validation Accuracy: 0.61019993\n",
      "Epoch 38, CIFAR-10 Batch 3:  Loss: 0.43498152 Validation Accuracy: 0.61439991\n",
      "Epoch 38, CIFAR-10 Batch 4:  Loss: 0.65854108 Validation Accuracy: 0.61399996\n",
      "Epoch 38, CIFAR-10 Batch 5:  Loss: 0.54336786 Validation Accuracy: 0.61419994\n",
      "Epoch 39, CIFAR-10 Batch 1:  Loss: 0.63398558 Validation Accuracy: 0.62119991\n",
      "Epoch 39, CIFAR-10 Batch 2:  Loss: 0.59305847 Validation Accuracy: 0.61299992\n",
      "Epoch 39, CIFAR-10 Batch 3:  Loss: 0.42461106 Validation Accuracy: 0.61999989\n",
      "Epoch 39, CIFAR-10 Batch 4:  Loss: 0.66340292 Validation Accuracy: 0.61179996\n",
      "Epoch 39, CIFAR-10 Batch 5:  Loss: 0.51138246 Validation Accuracy: 0.60939991\n",
      "Epoch 40, CIFAR-10 Batch 1:  Loss: 0.63776481 Validation Accuracy: 0.61479998\n",
      "Epoch 40, CIFAR-10 Batch 2:  Loss: 0.59878892 Validation Accuracy: 0.60899985\n",
      "Epoch 40, CIFAR-10 Batch 3:  Loss: 0.43489960 Validation Accuracy: 0.61899990\n",
      "Epoch 40, CIFAR-10 Batch 4:  Loss: 0.65757257 Validation Accuracy: 0.61719990\n",
      "Epoch 40, CIFAR-10 Batch 5:  Loss: 0.51673710 Validation Accuracy: 0.61499995\n",
      "Epoch 41, CIFAR-10 Batch 1:  Loss: 0.64183861 Validation Accuracy: 0.61219990\n",
      "Epoch 41, CIFAR-10 Batch 2:  Loss: 0.60639447 Validation Accuracy: 0.61819994\n",
      "Epoch 41, CIFAR-10 Batch 3:  Loss: 0.42570496 Validation Accuracy: 0.61099988\n",
      "Epoch 41, CIFAR-10 Batch 4:  Loss: 0.62603301 Validation Accuracy: 0.61559993\n",
      "Epoch 41, CIFAR-10 Batch 5:  Loss: 0.54181230 Validation Accuracy: 0.61159992\n",
      "Epoch 42, CIFAR-10 Batch 1:  Loss: 0.60737872 Validation Accuracy: 0.61959994\n",
      "Epoch 42, CIFAR-10 Batch 2:  Loss: 0.58316320 Validation Accuracy: 0.61639988\n",
      "Epoch 42, CIFAR-10 Batch 3:  Loss: 0.43320602 Validation Accuracy: 0.62519991\n",
      "Epoch 42, CIFAR-10 Batch 4:  Loss: 0.63004887 Validation Accuracy: 0.61239994\n",
      "Epoch 42, CIFAR-10 Batch 5:  Loss: 0.49937505 Validation Accuracy: 0.61779994\n",
      "Epoch 43, CIFAR-10 Batch 1:  Loss: 0.65444326 Validation Accuracy: 0.61939991\n",
      "Epoch 43, CIFAR-10 Batch 2:  Loss: 0.58969980 Validation Accuracy: 0.61379993\n",
      "Epoch 43, CIFAR-10 Batch 3:  Loss: 0.43425509 Validation Accuracy: 0.61719990\n",
      "Epoch 43, CIFAR-10 Batch 4:  Loss: 0.61615056 Validation Accuracy: 0.61459994\n",
      "Epoch 43, CIFAR-10 Batch 5:  Loss: 0.50109804 Validation Accuracy: 0.61539990\n",
      "Epoch 44, CIFAR-10 Batch 1:  Loss: 0.60879874 Validation Accuracy: 0.62099987\n",
      "Epoch 44, CIFAR-10 Batch 2:  Loss: 0.58889711 Validation Accuracy: 0.61539990\n",
      "Epoch 44, CIFAR-10 Batch 3:  Loss: 0.43820915 Validation Accuracy: 0.62339991\n",
      "Epoch 44, CIFAR-10 Batch 4:  Loss: 0.61824447 Validation Accuracy: 0.61279988\n",
      "Epoch 44, CIFAR-10 Batch 5:  Loss: 0.49888945 Validation Accuracy: 0.61919993\n",
      "Epoch 45, CIFAR-10 Batch 1:  Loss: 0.60215133 Validation Accuracy: 0.61499995\n",
      "Epoch 45, CIFAR-10 Batch 2:  Loss: 0.57963800 Validation Accuracy: 0.61239988\n",
      "Epoch 45, CIFAR-10 Batch 3:  Loss: 0.41454113 Validation Accuracy: 0.61479992\n"
     ]
    }
   ],
   "source": [
    "\"\"\"\n",
    "DON'T MODIFY ANYTHING IN THIS CELL\n",
    "\"\"\"\n",
    "save_model_path = './image_classification'\n",
    "\n",
    "print('Training...')\n",
    "with tf.Session() as sess:\n",
    "    # Initializing the variables\n",
    "    sess.run(tf.global_variables_initializer())\n",
    "    \n",
    "    # Training cycle\n",
    "    for epoch in range(epochs):\n",
    "        # Loop over all batches\n",
    "        n_batches = 5\n",
    "        for batch_i in range(1, n_batches + 1):\n",
    "            for batch_features, batch_labels in helper.load_preprocess_training_batch(batch_i, batch_size):\n",
    "                train_neural_network(sess, optimizer, keep_probability, batch_features, batch_labels)\n",
    "            print('Epoch {:>2}, CIFAR-10 Batch {}:  '.format(epoch + 1, batch_i), end='')\n",
    "            print_stats(sess, batch_features, batch_labels, cost, accuracy)\n",
    "            \n",
    "    # Save Model\n",
    "    saver = tf.train.Saver()\n",
    "    save_path = saver.save(sess, save_model_path)"
   ]
  },
  {
   "cell_type": "markdown",
   "metadata": {
    "deletable": true,
    "editable": true
   },
   "source": [
    "# Checkpoint\n",
    "The model has been saved to disk.\n",
    "## Test Model\n",
    "Test your model against the test dataset.  This will be your final accuracy. You should have an accuracy greater than 50%. If you don't, keep tweaking the model architecture and parameters."
   ]
  },
  {
   "cell_type": "code",
   "execution_count": null,
   "metadata": {
    "collapsed": false,
    "deletable": true,
    "editable": true
   },
   "outputs": [],
   "source": [
    "\"\"\"\n",
    "DON'T MODIFY ANYTHING IN THIS CELL\n",
    "\"\"\"\n",
    "%matplotlib inline\n",
    "%config InlineBackend.figure_format = 'retina'\n",
    "\n",
    "import tensorflow as tf\n",
    "import pickle\n",
    "import helper\n",
    "import random\n",
    "\n",
    "# Set batch size if not already set\n",
    "try:\n",
    "    if batch_size:\n",
    "        pass\n",
    "except NameError:\n",
    "    batch_size = 64\n",
    "\n",
    "save_model_path = './image_classification'\n",
    "n_samples = 4\n",
    "top_n_predictions = 3\n",
    "\n",
    "def test_model():\n",
    "    \"\"\"\n",
    "    Test the saved model against the test dataset\n",
    "    \"\"\"\n",
    "\n",
    "    test_features, test_labels = pickle.load(open('preprocess_test.p', mode='rb'))\n",
    "    loaded_graph = tf.Graph()\n",
    "\n",
    "    with tf.Session(graph=loaded_graph) as sess:\n",
    "        # Load model\n",
    "        loader = tf.train.import_meta_graph(save_model_path + '.meta')\n",
    "        loader.restore(sess, save_model_path)\n",
    "\n",
    "        # Get Tensors from loaded model\n",
    "        loaded_x = loaded_graph.get_tensor_by_name('x:0')\n",
    "        loaded_y = loaded_graph.get_tensor_by_name('y:0')\n",
    "        loaded_keep_prob = loaded_graph.get_tensor_by_name('keep_prob:0')\n",
    "        loaded_logits = loaded_graph.get_tensor_by_name('logits:0')\n",
    "        loaded_acc = loaded_graph.get_tensor_by_name('accuracy:0')\n",
    "        \n",
    "        # Get accuracy in batches for memory limitations\n",
    "        test_batch_acc_total = 0\n",
    "        test_batch_count = 0\n",
    "        \n",
    "        for test_feature_batch, test_label_batch in helper.batch_features_labels(test_features, test_labels, batch_size):\n",
    "            test_batch_acc_total += sess.run(\n",
    "                loaded_acc,\n",
    "                feed_dict={loaded_x: test_feature_batch, loaded_y: test_label_batch, loaded_keep_prob: 1.0})\n",
    "            test_batch_count += 1\n",
    "\n",
    "        print('Testing Accuracy: {}\\n'.format(test_batch_acc_total/test_batch_count))\n",
    "\n",
    "        # Print Random Samples\n",
    "        random_test_features, random_test_labels = tuple(zip(*random.sample(list(zip(test_features, test_labels)), n_samples)))\n",
    "        random_test_predictions = sess.run(\n",
    "            tf.nn.top_k(tf.nn.softmax(loaded_logits), top_n_predictions),\n",
    "            feed_dict={loaded_x: random_test_features, loaded_y: random_test_labels, loaded_keep_prob: 1.0})\n",
    "        helper.display_image_predictions(random_test_features, random_test_labels, random_test_predictions)\n",
    "\n",
    "\n",
    "test_model()"
   ]
  },
  {
   "cell_type": "markdown",
   "metadata": {
    "deletable": true,
    "editable": true
   },
   "source": [
    "## Why 50-80% Accuracy?\n",
    "You might be wondering why you can't get an accuracy any higher. First things first, 50% isn't bad for a simple CNN.  Pure guessing would get you 10% accuracy. However, you might notice people are getting scores [well above 80%](http://rodrigob.github.io/are_we_there_yet/build/classification_datasets_results.html#43494641522d3130).  That's because we haven't taught you all there is to know about neural networks. We still need to cover a few more techniques.\n",
    "## Submitting This Project\n",
    "When submitting this project, make sure to run all the cells before saving the notebook.  Save the notebook file as \"dlnd_image_classification.ipynb\" and save it as a HTML file under \"File\" -> \"Download as\".  Include the \"helper.py\" and \"problem_unittests.py\" files in your submission."
   ]
  }
 ],
 "metadata": {
  "kernelspec": {
   "display_name": "Python 3",
   "language": "python",
   "name": "python3"
  },
  "language_info": {
   "codemirror_mode": {
    "name": "ipython",
    "version": 3
   },
   "file_extension": ".py",
   "mimetype": "text/x-python",
   "name": "python",
   "nbconvert_exporter": "python",
   "pygments_lexer": "ipython3",
   "version": "3.5.2"
  },
  "widgets": {
   "state": {},
   "version": "1.1.2"
  }
 },
 "nbformat": 4,
 "nbformat_minor": 0
}
